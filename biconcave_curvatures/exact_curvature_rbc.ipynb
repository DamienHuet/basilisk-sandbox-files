{
 "cells": [
  {
   "cell_type": "markdown",
   "metadata": {},
   "source": [
    "# Analytical solutions to curvatures and bending force of a biconcave cell"
   ]
  },
  {
   "cell_type": "code",
   "execution_count": 1,
   "metadata": {},
   "outputs": [],
   "source": [
    "import numpy as np\n",
    "from math import *\n",
    "from sympy import *\n",
    "import matplotlib.pyplot as plt"
   ]
  },
  {
   "cell_type": "code",
   "execution_count": 2,
   "metadata": {},
   "outputs": [],
   "source": [
    "x, y, z = symbols('x y z')\n",
    "R, c0, c1, c2 = symbols('R c0 c1 c2')\n",
    "rho, f, fx, fy, fz, ngf, curv, gcurv, lbcurv, fbend = symbols('rho f fx fy fz ngf curv gcurv lbcurv fbend')\n",
    "init_printing()"
   ]
  },
  {
   "cell_type": "code",
   "execution_count": 3,
   "metadata": {},
   "outputs": [
    {
     "data": {
      "image/png": "[encoded data removed]",
      "text/latex": [
       "$\\displaystyle - \\frac{R \\sqrt{1 - \\frac{x^{2} + y^{2}}{R^{2}}} \\left(c_{0} + \\frac{c_{1} \\left(x^{2} + y^{2}\\right)}{R^{2}} + \\frac{c_{2} \\left(x^{2} + y^{2}\\right)^{2}}{R^{4}}\\right)}{2} + z$"
      ],
      "text/plain": [
       "          _____________ ⎛                                2⎞    \n",
       "         ╱      2    2  ⎜        ⎛ 2    2⎞      ⎛ 2    2⎞ ⎟    \n",
       "        ╱      x  + y   ⎜     c₁⋅⎝x  + y ⎠   c₂⋅⎝x  + y ⎠ ⎟    \n",
       "  R⋅   ╱   1 - ─────── ⋅⎜c₀ + ──────────── + ─────────────⎟    \n",
       "      ╱            2    ⎜           2               4     ⎟    \n",
       "    ╲╱            R     ⎝          R               R      ⎠    \n",
       "- ───────────────────────────────────────────────────────── + z\n",
       "                              2                                "
      ]
     },
     "execution_count": 3,
     "metadata": {},
     "output_type": "execute_result"
    }
   ],
   "source": [
    "rho = sqrt(x**2 + y**2)/R\n",
    "f = z - (R/2)*sqrt(1 - rho**2)*(c0 + c1*rho**2 + c2*rho**4)\n",
    "f"
   ]
  },
  {
   "cell_type": "code",
   "execution_count": 4,
   "metadata": {},
   "outputs": [],
   "source": [
    "fx = diff(f, x)\n",
    "fy = diff(f, y)\n",
    "fz = diff(f, z)\n",
    "ngf = sqrt(fx**2 + fy**2 + fz**2)\n",
    "fxx, fxy, fxz, fyx, fyy, fyz, fzx, fzy, fzz = symbols('fxx fxy fxz fyx fyy fyz fzx fzy fzz')\n",
    "fxx = diff(fx, x)\n",
    "fxy = diff(fx, y)\n",
    "fxz = diff(fx, z)\n",
    "fyy = diff(fy, y)\n",
    "fyx = diff(fy, x)\n",
    "fyz = diff(fy, z)\n",
    "fzz = diff(fz, z)\n",
    "fzx = diff(fz, x)\n",
    "fzy = diff(fz, y)\n",
    "nx, ny, nz = symbols('nx ny nz')\n",
    "nx = fx/ngf\n",
    "ny = fy/ngf\n",
    "nz = fz/ngf"
   ]
  },
  {
   "cell_type": "code",
   "execution_count": 5,
   "metadata": {},
   "outputs": [],
   "source": [
    "curv = .5*(diff(fx/ngf, x) + diff(fy/ngf, y) + diff(fz/ngf, z))\n",
    "gcurv = ((fz*(fxx*fz - 2*fx*fxz) + fx**2*fzz)*(fz*(fyy*fz - 2*fy*fyz) + fy**2*fzz) - \n",
    "         (fz*(-fx*fyz + fxy*fz - fxz*fy) + fx*fy*fzz)**2)/(fz**2*ngf**4)\n",
    "cx, cy, cz, scx, scy, scz = symbols('cx cy cz scx, scy, scz')\n",
    "cx = diff(curv, x)\n",
    "cy = diff(curv, y)\n",
    "cz = diff(curv, z)\n",
    "scx = (1 - nx**2)*cx - nx*ny*cy - nx*nz*cz\n",
    "scy = -nx*ny*cx + (1 - ny**2)*cy - ny*nz*cz\n",
    "scz = -nx*nz*cx - ny*nz*cy + (1 - nz**2)*cz\n",
    "lbcurv = (((1 - nx**2)*diff(scx,x) - nx*ny*diff(scx,y) - nx*nz*diff(scx,z)) + \n",
    "          (-nx*ny*diff(scy,x) + (1 - ny**2)*diff(scy,y) - ny*nz*diff(scy,z)) + \n",
    "          (-nx*nz*diff(scz,x) - ny*nz*diff(scz,y) + (1 - nz**2)*diff(scz,z)))"
   ]
  },
  {
   "cell_type": "code",
   "execution_count": null,
   "metadata": {},
   "outputs": [
    {
     "name": "stdout",
     "output_type": "stream",
     "text": [
      "0.0 %\n",
      "1.0 %\n",
      "2.0 %\n"
     ]
    }
   ],
   "source": [
    "myR = 1\n",
    "myc0 = 0.2072 \n",
    "myc1 = 2.0026\n",
    "myc2 = -1.1228\n",
    "N = 10\n",
    "myx = np.hstack((np.linspace(0, myR*.9, N),np.linspace(myR*.9, myR, N)))\n",
    "# myx = np.linspace(0, myR, N)\n",
    "\n",
    "exp_curv = np.zeros((2,len(myx)-1))\n",
    "exp_gcurv = np.zeros((2,len(myx)-1))\n",
    "exp_lbcurv = np.zeros((2,len(myx)-1))\n",
    "for i in range(len(myx)-1):\n",
    "    myz = -f.evalf(subs={R:myR, c0:myc0, c1:myc1, c2:myc2, y:0, x:myx[i], z:0})\n",
    "    exp_curv[0, i] = acos(myz/sqrt(myx[i]**2 + myz**2))\n",
    "    exp_curv[1, i] = curv.evalf(subs={R:myR, c0:myc0, c1:myc1, c2:myc2, y:0, x:myx[i], z:myz})\n",
    "    exp_gcurv[0, i] = exp_curv[0, i]\n",
    "    exp_gcurv[1, i] = gcurv.evalf(subs={R:myR, c0:myc0, c1:myc1, c2:myc2, y:0, x:myx[i], z:myz})\n",
    "    exp_lbcurv[0, i] = exp_curv[0, i]\n",
    "#     exp_lbcurv[1, i] = lbcurv(myx[i], myz)\n",
    "    exp_lbcurv[1, i] = lbcurv.evalf(subs={R:myR, c0:myc0, c1:myc1, c2:myc2, y:0, x:myx[i], z:myz})\n",
    "    print(100*i/len(myx),\"%\")\n",
    "# np.savetxt(\"curvature_rbc/rbc_exact_curv.csv\", np.transpose(exp_curv), delimiter=\", \")\n",
    "# np.savetxt(\"curvature_rbc/rbc_exact_gcurv.csv\", np.transpose(exp_gcurv), delimiter=\", \")\n",
    "# np.savetxt(\"curvature_rbc/rbc_exact_lbcurv.csv\", np.transpose(exp_lbcurv), delimiter=\", \")"
   ]
  },
  {
   "cell_type": "code",
   "execution_count": null,
   "metadata": {},
   "outputs": [],
   "source": [
    "exp_bending = np.zeros((2,len(myx)-1))\n",
    "for i in range(len(myx)-1):\n",
    "    exp_bending[0, i] = exp_curv[0, i]\n",
    "    exp_bending[1, i] = fabs(2*(2*exp_curv[1, i]*(exp_curv[1, i]**2 - exp_gcurv[1, i]) + exp_lbcurv[1, i]))\n",
    "np.savetxt(\"curvature_rbc/rbc_exact_bending.csv\", np.transpose(exp_bending), delimiter=\", \")"
   ]
  },
  {
   "cell_type": "code",
   "execution_count": null,
   "metadata": {},
   "outputs": [],
   "source": [
    "plt.plot(exp_curv[0,:]/pi, exp_curv[1,:])\n",
    "plt.plot(exp_gcurv[0,:]/pi, exp_gcurv[1,:])\n",
    "plt.xlabel('$\\\\theta/\\pi$')\n",
    "plt.ylabel('Mean and Gaussian curvature $\\\\kappa$, $\\\\kappa_g$')\n",
    "plt.grid('on')"
   ]
  },
  {
   "cell_type": "code",
   "execution_count": null,
   "metadata": {},
   "outputs": [],
   "source": [
    "plt.plot(exp_lbcurv[0,:]/pi, exp_lbcurv[1,:])\n",
    "plt.xlabel('$\\\\theta/\\pi$')\n",
    "plt.ylabel('Surface Laplacian of the mean curvature')\n",
    "plt.grid('on')"
   ]
  },
  {
   "cell_type": "code",
   "execution_count": null,
   "metadata": {},
   "outputs": [],
   "source": [
    "plt.plot(exp_bending[0,:]/pi, exp_bending[1,:])\n",
    "plt.xlabel('$\\\\theta/\\pi$')\n",
    "plt.ylabel('Bending force')\n",
    "plt.grid('on')"
   ]
  }
 ],
 "metadata": {
  "kernelspec": {
   "display_name": "Python 3 (ipykernel)",
   "language": "python",
   "name": "python3"
  },
  "language_info": {
   "codemirror_mode": {
    "name": "ipython",
    "version": 3
   },
   "file_extension": ".py",
   "mimetype": "text/x-python",
   "name": "python",
   "nbconvert_exporter": "python",
   "pygments_lexer": "ipython3",
   "version": "3.10.6"
  }
 },
 "nbformat": 4,
 "nbformat_minor": 4
}
